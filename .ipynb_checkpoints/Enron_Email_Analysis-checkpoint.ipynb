{
 "cells": [
  {
   "cell_type": "markdown",
   "id": "34958519",
   "metadata": {},
   "source": [
    "# Exploration of Spam in the Enron Email Dataset"
   ]
  },
  {
   "cell_type": "markdown",
   "id": "e15054bb",
   "metadata": {},
   "source": [
    "The overall goal of this project is the classify messages as spam or not spam, but I also utilize other methods to explore the relationships in the data which are not necessarily spam classification methods.<br/><br/>\n",
    "I use data acquired from: https://www2.aueb.gr/users/ion/data/enron-spam/ \n",
    "<br/><br/>\n",
    "It contains emails from the enron fraud trail, labelled as spam, or not spam for research purposes. I run on emails from 2 users sent and received over three years.\n",
    "<br/><br/>\n",
    "I would like to incorporate all users availabe (6) to reduce bias created by any individual inbox, however due to processing restrictions I needed to limit myself to approximately 10,000 entries."
   ]
  },
  {
   "cell_type": "markdown",
   "id": "861e2870",
   "metadata": {},
   "source": [
    "## 1.Data Preprocessing and Preliminary Analysis\n",
    "In this section I explore decriptive features of the data, process it, then perform some comparative analysis to inform modelling."
   ]
  },
  {
   "cell_type": "markdown",
   "id": "60195764",
   "metadata": {},
   "source": [
    "Before I begin applying classification methods, I first load the data into a dataframe with a categorical label for spam. <br/><br/>\n",
    "The code below iterates overall the data in the folder enron1 and does not load files which are not utf-8 compatible, it is possible these files can be recovered, but with the amount of data available it is not necessary."
   ]
  },
  {
   "cell_type": "code",
   "execution_count": 1,
   "id": "9143c1a2",
   "metadata": {},
   "outputs": [],
   "source": [
    "import pandas as pd\n",
    "import numpy as np\n",
    "import seaborn as sns\n",
    "import matplotlib.pyplot as plt\n",
    "import matplotlib\n",
    "plt.style.use('seaborn')\n",
    "import nltk"
   ]
  },
  {
   "cell_type": "code",
   "execution_count": 2,
   "id": "27b25ea2",
   "metadata": {
    "scrolled": true
   },
   "outputs": [
    {
     "data": {
      "text/html": [
       "<div>\n",
       "<style scoped>\n",
       "    .dataframe tbody tr th:only-of-type {\n",
       "        vertical-align: middle;\n",
       "    }\n",
       "\n",
       "    .dataframe tbody tr th {\n",
       "        vertical-align: top;\n",
       "    }\n",
       "\n",
       "    .dataframe thead th {\n",
       "        text-align: right;\n",
       "    }\n",
       "</style>\n",
       "<table border=\"1\" class=\"dataframe\">\n",
       "  <thead>\n",
       "    <tr style=\"text-align: right;\">\n",
       "      <th></th>\n",
       "      <th>text</th>\n",
       "      <th>label</th>\n",
       "    </tr>\n",
       "  </thead>\n",
       "  <tbody>\n",
       "    <tr>\n",
       "      <th>0</th>\n",
       "      <td>Subject: ena sales on hpl\\n just to update you...</td>\n",
       "      <td>0</td>\n",
       "    </tr>\n",
       "    <tr>\n",
       "      <th>1</th>\n",
       "      <td>Subject: 98 - 6736 &amp; 98 - 9638 for 1997 ( ua 4...</td>\n",
       "      <td>0</td>\n",
       "    </tr>\n",
       "    <tr>\n",
       "      <th>2</th>\n",
       "      <td>Subject: re : telephone interview with enron c...</td>\n",
       "      <td>0</td>\n",
       "    </tr>\n",
       "    <tr>\n",
       "      <th>3</th>\n",
       "      <td>Subject: hpl nominations for december 28 , 199...</td>\n",
       "      <td>0</td>\n",
       "    </tr>\n",
       "    <tr>\n",
       "      <th>4</th>\n",
       "      <td>Subject: revised nom - kcs resources\\n daren ,...</td>\n",
       "      <td>0</td>\n",
       "    </tr>\n",
       "  </tbody>\n",
       "</table>\n",
       "</div>"
      ],
      "text/plain": [
       "                                                text  label\n",
       "0  Subject: ena sales on hpl\\n just to update you...      0\n",
       "1  Subject: 98 - 6736 & 98 - 9638 for 1997 ( ua 4...      0\n",
       "2  Subject: re : telephone interview with enron c...      0\n",
       "3  Subject: hpl nominations for december 28 , 199...      0\n",
       "4  Subject: revised nom - kcs resources\\n daren ,...      0"
      ]
     },
     "execution_count": 2,
     "metadata": {},
     "output_type": "execute_result"
    }
   ],
   "source": [
    "#Loading the data\n",
    "path_non_spam = './labelled_dataset/ham/*'\n",
    "path_spam = './labelled_dataset/spam/*'\n",
    "import glob\n",
    "def text_to_pandas(path_1,label):\n",
    "    l = []\n",
    "    for filename in glob.glob(path_1):\n",
    "        try:\n",
    "            l.append(pd.read_csv(filename, sep ='\\t\\t\\t\\t,,,',engine='python'))\n",
    "        except:\n",
    "            pass\n",
    "    df = pd.concat(l, axis=0)\n",
    "    ham=list()\n",
    "    for i,file in enumerate(glob.glob(path_1)):\n",
    "        try:\n",
    "            with open(file) as f:\n",
    "                lines = f.readlines()\n",
    "                ham.append(' '.join(lines))\n",
    "        except:\n",
    "            pass\n",
    "    df=pd.DataFrame.from_dict({'text':ham,'label':[label]*len(ham)})\n",
    "    return df\n",
    "\n",
    "df_non_spam=text_to_pandas(path_non_spam,0)\n",
    "df_spam=text_to_pandas(path_spam,1)\n",
    "df=pd.concat([df_non_spam,df_spam])\n",
    "df = df.reset_index().drop(['index'],axis = 1)\n",
    "df.head()"
   ]
  },
  {
   "cell_type": "markdown",
   "id": "f40e7742",
   "metadata": {},
   "source": [
    "### 1.1 Analysis of the dataset\n",
    "To better understand the dataset, I explore the portion of spam to non-spam (hereafter ham), length, and comparative word frequency."
   ]
  },
  {
   "cell_type": "code",
   "execution_count": 3,
   "id": "8eb122d4",
   "metadata": {},
   "outputs": [
    {
     "name": "stdout",
     "output_type": "stream",
     "text": [
      "       text                                                               \n",
      "      count unique                                                top freq\n",
      "label                                                                     \n",
      "0      8032   7839  Subject: calpine daily gas nomination\\n >\\n ri...   20\n",
      "1      2853   2817                                        Subject: \\n   16\n"
     ]
    },
    {
     "data": {
      "image/png": "[encoded data removed]",
      "text/plain": [
       "<Figure size 576x396 with 1 Axes>"
      ]
     },
     "metadata": {},
     "output_type": "display_data"
    }
   ],
   "source": [
    "sns.countplot(x='label',data=df)\n",
    "print(df.groupby('label').describe())"
   ]
  },
  {
   "cell_type": "markdown",
   "id": "ca0b5207",
   "metadata": {},
   "source": [
    "Since replied emails create many outliers (email text includes the text it was replying to), we want to look at both the length, and log length distributions of the emails "
   ]
  },
  {
   "cell_type": "code",
   "execution_count": 4,
   "id": "c2909e92",
   "metadata": {},
   "outputs": [
    {
     "data": {
      "image/png": "[encoded data removed]",
      "text/plain": [
       "<Figure size 1008x432 with 2 Axes>"
      ]
     },
     "metadata": {},
     "output_type": "display_data"
    }
   ],
   "source": [
    "df['length'] = df['text'].apply(len)\n",
    "df['log_length'] = df['length'].apply(np.log)\n",
    "fig, axs = plt.subplots(1,2,figsize = (14,6))\n",
    "sns.histplot(df['length'],bins = 50,ax = axs[0]).set(title='Email Length')\n",
    "sns.histplot(df['log_length'],bins = 50,ax = axs[1]).set(title='Log of Email Length')\n",
    "plt.show()"
   ]
  },
  {
   "cell_type": "markdown",
   "id": "6de31871",
   "metadata": {},
   "source": [
    "Next I want to compare the length of the spam emails compared to regular emails to see if it may be an informative feature"
   ]
  },
  {
   "cell_type": "code",
   "execution_count": 5,
   "id": "0841a217",
   "metadata": {},
   "outputs": [
    {
     "data": {
      "image/png": "[encoded data removed]",
      "text/plain": [
       "<Figure size 1008x432 with 2 Axes>"
      ]
     },
     "metadata": {},
     "output_type": "display_data"
    }
   ],
   "source": [
    "df_spam = df.loc[df['label']==1]\n",
    "df_ham = df.loc[df['label']==0]\n",
    "fig, axs = plt.subplots(1,2,figsize = (14,6))\n",
    "sns.histplot(df_ham['log_length'],bins = 50,ax = axs[0]).set(title='Ham Length')\n",
    "sns.histplot(df_spam['log_length'],bins = 50,ax = axs[1]).set(title='Spam Length')\n",
    "plt.show()"
   ]
  },
  {
   "cell_type": "markdown",
   "id": "f9091c72",
   "metadata": {},
   "source": [
    "Since the log spam length and ham length both appear to have a normal distribution, given that Ham has roughly 3x the entries, this shows us that they do not appear to systematically differ, there is evidence of some clumping for ham emails around 4.5 and spam emails around 2.3, however this may be due to peculiarities of the dataset such as duplicates or short follow-up response to a specific email."
   ]
  },
  {
   "cell_type": "markdown",
   "id": "0dd653a4",
   "metadata": {},
   "source": [
    "### 1.2 Data Preprocessing"
   ]
  },
  {
   "cell_type": "markdown",
   "id": "0fb95698",
   "metadata": {},
   "source": [
    "To get an idea of my nexts steps I check what an entry looks like"
   ]
  },
  {
   "cell_type": "code",
   "execution_count": 6,
   "id": "d3234c11",
   "metadata": {
    "scrolled": true
   },
   "outputs": [
    {
     "name": "stdout",
     "output_type": "stream",
     "text": [
      "Subject: ena sales on hpl\n",
      " just to update you on this project ' s status :\n",
      " based on a new report that scott mills ran for me from sitara , i have come up\n",
      " with the following counterparties as the ones to which ena is selling gas off\n",
      " of hpl ' s pipe .\n",
      " altrade transaction , l . l . c . gulf gas utilities company\n",
      " brazoria , city of panther pipeline , inc .\n",
      " central illinois light company praxair , inc .\n",
      " central power and light company reliant energy - entex\n",
      " ces - equistar chemicals , lp reliant energy - hl & p\n",
      " corpus christi gas marketing , lp southern union company\n",
      " d & h gas company , inc . texas utilities fuel company\n",
      " duke energy field services , inc . txu gas distribution\n",
      " entex gas marketing company union carbide corporation\n",
      " equistar chemicals , lp unit gas transmission company inc .\n",
      " since i ' m not sure exactly what gets entered into sitara , pat clynes\n",
      " suggested that i check with daren farmer to make sure that i ' m not missing\n",
      " something ( which i did below ) . while i am waiting for a response from him\n",
      " and / or mary smith , i will begin gathering the contractual volumes under the\n",
      " above contracts .\n",
      " - - - - - - - - - - - - - - - - - - - - - - forwarded by cheryl dudley / hou / ect on 05 / 10 / 2000 07 : 56\n",
      " am - - - - - - - - - - - - - - - - - - - - - - - - - - -\n",
      " cheryl d king\n",
      " 05 / 08 / 2000 04 : 11 pm\n",
      " sent by : cheryl dudley\n",
      " to : daren j farmer / hou / ect @ ect , mary m smith / hou / ect @ ect\n",
      " cc :\n",
      " subject : ena sales on hpl\n",
      " i am working on a project for brenda herod & was wondering if one of you\n",
      " could tell me if i ' m on the right track & if this will get everything for\n",
      " which she is looking .\n",
      " she is trying to draft a long - term transport / storage agreement between ena &\n",
      " hplc which will allow ena to move the gas to their markets . in order to\n",
      " accomplish this , she needs to know all of the sales to customers that ena is\n",
      " doing off of hpl ' s pipe .\n",
      " i had scott mills run a report from sitara showing all ena buy / sell activity\n",
      " on hpl since 7 / 99 . if i eliminate the buys & the desk - to - desk deals , will\n",
      " this give me everything that i need ?\n",
      " are there buy / sell deals done with ena on hpl ' s pipe that wouldn ' t show up in\n",
      " sitara ? someone mentioned something about deals where hpl transports the gas\n",
      " on it ' s own behalf then ena sells it to a customer at that same spot - -\n",
      " ? ? ? ? ? do deals like that happen ? would they show up in sitara ?\n",
      " is there anything else that i ' m missing ? i ' m not real familiar with how some\n",
      " of these deals happen nowadays so am very receptive to any\n",
      " ideas / suggestions / help that you can offer ! ! !\n",
      " thanks in advance .\n"
     ]
    }
   ],
   "source": [
    "print(df['text'][0])"
   ]
  },
  {
   "cell_type": "markdown",
   "id": "d8c79fe9",
   "metadata": {},
   "source": [
    "\n",
    "\n",
    "Below I pre-process the text which consists of 4 parts\n",
    "<ul>\n",
    "    <li>Clean: Remove punctuation, whitespaces, and convert all characters to lowercase\n",
    "    <li>Tokenize: Break the text down into individual words\n",
    "    <li>Remove Stopwards: Delete words that do not add information\n",
    "    <li>Lemmatize: Convert words to their root words"
   ]
  },
  {
   "cell_type": "code",
   "execution_count": 7,
   "id": "98034e73",
   "metadata": {},
   "outputs": [],
   "source": [
    "import string\n",
    "import re\n",
    "wnl = nltk.WordNetLemmatizer()\n",
    "\n",
    "#removes numbers from a string\n",
    "def remove_numbers(text):\n",
    "    result = re.sub(r'\\d+','',text)\n",
    "    return result\n",
    "\n",
    "stopwords = set(nltk.corpus.stopwords.words('english'))\n",
    "stopwords=stopwords.union(set(string.punctuation))\n",
    "#text_prep removes uninformative words, removes numbers, tokenizes and lemmatizes the input text\n",
    "def text_prep(text):\n",
    "    text = text.lower()\n",
    "    text = remove_numbers(text)\n",
    "    tokens = [token for token in nltk.word_tokenize(text)]\n",
    "    tokens = [token for token in tokens if not token in stopwords]\n",
    "    tokens = [wnl.lemmatize(token) for token in tokens]\n",
    "\n",
    "    return(tokens)"
   ]
  },
  {
   "cell_type": "code",
   "execution_count": 8,
   "id": "b224411e",
   "metadata": {},
   "outputs": [],
   "source": [
    "text_data = [text_prep(txt) for txt in df['text']]\n",
    "ham_text = [text_prep(txt) for txt in df.loc[df['label']==0]['text']]\n",
    "spam_text = [text_prep(txt) for txt in df.loc[df['label']==1]['text']]"
   ]
  },
  {
   "cell_type": "markdown",
   "id": "4c321589",
   "metadata": {},
   "source": [
    "### 1.3 Additional Analysis"
   ]
  },
  {
   "cell_type": "markdown",
   "id": "8a7bc46f",
   "metadata": {},
   "source": [
    "To understand which features may be important I create a graph of the most common words conditional on the type of email. This can show the overlap of common words that possibly contain no information, as well as the potential for some words to be a strong indicator of spam vs. ham, at least when using a \"bag of words\" method such as the Naive Bayes classifier."
   ]
  },
  {
   "cell_type": "code",
   "execution_count": 9,
   "id": "d4968011",
   "metadata": {
    "scrolled": true
   },
   "outputs": [
    {
     "data": {
      "image/png": "[encoded data removed]",
      "text/plain": [
       "<Figure size 1152x432 with 2 Axes>"
      ]
     },
     "metadata": {},
     "output_type": "display_data"
    }
   ],
   "source": [
    "spam_wf = nltk.FreqDist([word for doc in spam_text for word in doc]).most_common(10)\n",
    "spam_words = [x[0] for x in spam_wf]\n",
    "spam_cnt = [x[1] for x in spam_wf]\n",
    "ham_wf = nltk.FreqDist([word for doc in ham_text for word in doc]).most_common(10)\n",
    "ham_words = [x[0] for x in ham_wf]\n",
    "ham_cnt = [x[1] for x in ham_wf]\n",
    "\n",
    "fig, ax = plt.subplots(1,2,figsize=(16,6))\n",
    "ax[0].bar(range(len(spam_words)), spam_cnt);\n",
    "ax[0].set_xticks(range(len(spam_words)));\n",
    "ax[0].set_xticklabels(spam_words, rotation='vertical');\n",
    "ax[0].set_ylabel('Occurences');\n",
    "ax[1].bar(range(len(ham_words)), ham_cnt);\n",
    "ax[1].set_xticks(range(len(ham_words)));\n",
    "ax[1].set_xticklabels(ham_words, rotation='vertical');\n",
    "fig.suptitle('Word Occurences, Spam vs. Ham',size=30)\n",
    "plt.show()"
   ]
  },
  {
   "cell_type": "markdown",
   "id": "8519fbfa",
   "metadata": {},
   "source": [
    "## Classification\n",
    "In this section I imitate the methods used in class and provide my own analysis and interpretation of the results, as well as tweaking the methods for my specific dataset"
   ]
  },
  {
   "cell_type": "markdown",
   "id": "c3294a2a",
   "metadata": {},
   "source": [
    "### 2.1 Feature Engineering\n",
    "I use the sklearn package to select features for x, and create a list of corresponding outputs for y"
   ]
  },
  {
   "cell_type": "code",
   "execution_count": 10,
   "id": "f1b9f109",
   "metadata": {},
   "outputs": [],
   "source": [
    "from sklearn.feature_extraction.text import CountVectorizer, TfidfVectorizer\n",
    "vectorizer = CountVectorizer(max_features=5000, min_df=5, max_df=0.7)\n",
    "y = [l for l in df['label']]\n",
    "X = vectorizer.fit_transform([' '.join(doc) for doc in text_data])"
   ]
  },
  {
   "cell_type": "markdown",
   "id": "e74f0ceb",
   "metadata": {},
   "source": [
    "Next I split the data into training and testing sets"
   ]
  },
  {
   "cell_type": "code",
   "execution_count": 11,
   "id": "122a9bb8",
   "metadata": {},
   "outputs": [],
   "source": [
    "from sklearn.model_selection import train_test_split\n",
    "Xtrain, Xtest, ytrain, ytest = train_test_split(X, y, test_size=0.3, random_state=0)"
   ]
  },
  {
   "cell_type": "markdown",
   "id": "40d44240",
   "metadata": {},
   "source": [
    "### 2.2 Naive Bayes"
   ]
  },
  {
   "cell_type": "markdown",
   "id": "9ed4f128",
   "metadata": {},
   "source": [
    "Next I train the Multinomial Naive Bayes Classifier, searching for the optimal paramater <em> alpha</em> and return it's accuracy. This method will only take into account the words used and not their grammatical form or order, therefore if the structure of spam emails is irregular this model will not be optimal. <br/><br/> The grid searching method is inspired by the post: https://www.kaggle.com/code/itratrahman/nlp-tutorial-using-python/notebook"
   ]
  },
  {
   "cell_type": "code",
   "execution_count": 12,
   "id": "1c8421d2",
   "metadata": {
    "scrolled": false
   },
   "outputs": [
    {
     "name": "stdout",
     "output_type": "stream",
     "text": [
      "Best parameter:  {'alpha': 61.19597989949749}\n",
      "Best score:  -0.20066490920131966\n"
     ]
    },
    {
     "data": {
      "image/png": "[encoded data removed]",
      "text/plain": [
       "<Figure size 864x432 with 1 Axes>"
      ]
     },
     "metadata": {},
     "output_type": "display_data"
    }
   ],
   "source": [
    "from sklearn import naive_bayes\n",
    "from sklearn.model_selection import GridSearchCV\n",
    "#defining the classifier\n",
    "MNB_classifier = naive_bayes.MultinomialNB()\n",
    "#searching the grid using 5-fold validation\n",
    "alpha_list = np.linspace(1, 100, 200)\n",
    "parameter_grid = [{\"alpha\":alpha_list}]\n",
    "gridsearch_NB = GridSearchCV(MNB_classifier,parameter_grid, scoring = 'neg_log_loss', cv = 5)\n",
    "gridsearch_NB.fit(Xtrain, ytrain)\n",
    "results = pd.DataFrame()\n",
    "#storing the parameter values\n",
    "results['alpha'] = gridsearch_NB.cv_results_['param_alpha'].data\n",
    "results['neglogloss'] = gridsearch_NB.cv_results_['mean_test_score'].data\n",
    "\n",
    "matplotlib.rcParams['figure.figsize'] = (12, 6)\n",
    "plt.plot(results['alpha'], -results['neglogloss'])\n",
    "plt.title('Graphing the loss function over parameter alpha values')\n",
    "plt.xlabel('alpha')\n",
    "plt.ylabel('log loss')\n",
    "plt.grid()\n",
    "print(\"Best parameter: \",gridsearch_NB.best_params_)\n",
    "print(\"Best score: \",gridsearch_NB.best_score_) "
   ]
  },
  {
   "cell_type": "markdown",
   "id": "e30a5b37",
   "metadata": {},
   "source": [
    "Next I use the best parameter to evaluate the performance of the model"
   ]
  },
  {
   "cell_type": "code",
   "execution_count": 13,
   "id": "920ef1bb",
   "metadata": {},
   "outputs": [
    {
     "name": "stdout",
     "output_type": "stream",
     "text": [
      "The accuracy is 96%\n"
     ]
    }
   ],
   "source": [
    "MNB_classifier = naive_bayes.MultinomialNB(alpha=61.306)\n",
    "MNB_classifier.fit(Xtrain,ytrain)\n",
    "print(f'The accuracy is {round(np.mean(MNB_classifier.predict(Xtest)==ytest)*100)}%')"
   ]
  },
  {
   "cell_type": "markdown",
   "id": "a552ef46",
   "metadata": {},
   "source": [
    "To evaluate the model, we need to look at more metrics than it's pure accuracy. Below I show the confusion matrix."
   ]
  },
  {
   "cell_type": "code",
   "execution_count": 14,
   "id": "0670009d",
   "metadata": {},
   "outputs": [
    {
     "name": "stdout",
     "output_type": "stream",
     "text": [
      "[[2343   30]\n",
      " [  98  795]]\n",
      "              precision    recall  f1-score   support\n",
      "\n",
      "           0       0.96      0.99      0.97      2373\n",
      "           1       0.96      0.89      0.93       893\n",
      "\n",
      "    accuracy                           0.96      3266\n",
      "   macro avg       0.96      0.94      0.95      3266\n",
      "weighted avg       0.96      0.96      0.96      3266\n",
      "\n"
     ]
    }
   ],
   "source": [
    "from sklearn import metrics\n",
    "print(metrics.confusion_matrix(ytest, MNB_classifier.predict(Xtest)))\n",
    "print(metrics.classification_report(ytest, MNB_classifier.predict(Xtest)))"
   ]
  },
  {
   "cell_type": "markdown",
   "id": "b6b418a3",
   "metadata": {},
   "source": [
    "We see that the model is actually performing alright considering that it does not take into account that the grammar of the email may matter. The f1-scores appears promising for such a simple method."
   ]
  },
  {
   "cell_type": "markdown",
   "id": "d03c9135",
   "metadata": {},
   "source": [
    "### 2.3 Logistic Regression\n",
    "Utilizing logistic regression on the features, this method also does not take into account the order of words, however the model is designed to predict the probability an input is 0 or 1 making it a choice of classifier worth exploring. In this case the parameters are not particularly meaningful so I don't test alternative parameters."
   ]
  },
  {
   "cell_type": "code",
   "execution_count": 15,
   "id": "e9675328",
   "metadata": {},
   "outputs": [
    {
     "name": "stdout",
     "output_type": "stream",
     "text": [
      "The accuracy is 98.13%\n"
     ]
    }
   ],
   "source": [
    "from sklearn import linear_model\n",
    "logistic_model = linear_model.LogisticRegression(solver=\"lbfgs\")\n",
    "logistic_model.fit(Xtrain, ytrain)\n",
    "print(f'The accuracy is {round(np.mean(logistic_model.predict(Xtest)==ytest)*100,2)}%')"
   ]
  },
  {
   "cell_type": "code",
   "execution_count": 16,
   "id": "85ac44f4",
   "metadata": {},
   "outputs": [
    {
     "name": "stdout",
     "output_type": "stream",
     "text": [
      "[[2338   35]\n",
      " [  26  867]]\n",
      "              precision    recall  f1-score   support\n",
      "\n",
      "           0       0.99      0.99      0.99      2373\n",
      "           1       0.96      0.97      0.97       893\n",
      "\n",
      "    accuracy                           0.98      3266\n",
      "   macro avg       0.98      0.98      0.98      3266\n",
      "weighted avg       0.98      0.98      0.98      3266\n",
      "\n"
     ]
    }
   ],
   "source": [
    "print(metrics.confusion_matrix(ytest,logistic_model.predict(Xtest)))\n",
    "print(metrics.classification_report(ytest, logistic_model.predict(Xtest)))"
   ]
  },
  {
   "cell_type": "markdown",
   "id": "05492828",
   "metadata": {},
   "source": [
    "We find the the logistic model improves upon the Naive Bayes approach in terms of raw accuracy, it also improves in every aspect of the confusion, with both fewer false positives and false negatives."
   ]
  },
  {
   "cell_type": "markdown",
   "id": "99d4d09c",
   "metadata": {},
   "source": [
    "### 2.4 Neural Networks\n",
    "In this method, I employ an MLP strategy to classify the data. For tuning the parameters I took inspiriation from this post: https://coderzcolumn.com/tutorials/machine-learning/scikit-learn-sklearn-neural-network which walks through parameter searching and suggests parameters to try."
   ]
  },
  {
   "cell_type": "code",
   "execution_count": 17,
   "id": "236a0b87",
   "metadata": {},
   "outputs": [
    {
     "name": "stdout",
     "output_type": "stream",
     "text": [
      "Fitting 5 folds for each of 12 candidates, totalling 60 fits\n",
      "Best parameters:  {'activation': 'logistic', 'hidden_layer_sizes': (50, 75, 100), 'learning_rate': 'constant', 'solver': 'adam'}\n"
     ]
    }
   ],
   "source": [
    "from sklearn.neural_network import MLPClassifier\n",
    "MLP_classifier = MLPClassifier()\n",
    "\n",
    "params = {'activation': ['relu', 'tanh', 'logistic', 'identity'],\n",
    "          'hidden_layer_sizes': [(100,), (50,100,), (50,75,100,)],\n",
    "          'solver': ['adam'],\n",
    "          'learning_rate' : ['constant']\n",
    "         }\n",
    "\n",
    "gridsearch_MLP = GridSearchCV(MLPClassifier(random_state=0), param_grid=params, n_jobs=-1, cv=5, verbose=5,scoring = 'neg_log_loss')\n",
    "gridsearch_MLP.fit(Xtrain,ytrain)\n",
    "print(\"Best parameters: \",gridsearch_MLP.best_params_)"
   ]
  },
  {
   "cell_type": "code",
   "execution_count": 18,
   "id": "20337f35",
   "metadata": {},
   "outputs": [
    {
     "ename": "NameError",
     "evalue": "name 'neural_network' is not defined",
     "output_type": "error",
     "traceback": [
      "\u001b[0;31m---------------------------------------------------------------------------\u001b[0m",
      "\u001b[0;31mNameError\u001b[0m                                 Traceback (most recent call last)",
      "\u001b[0;32m/var/folders/dw/cjv5sz417w35kt69rc8rgx5w0000gn/T/ipykernel_14139/480589322.py\u001b[0m in \u001b[0;36m<module>\u001b[0;34m\u001b[0m\n\u001b[0;32m----> 1\u001b[0;31m \u001b[0mMLP_classifier\u001b[0m \u001b[0;34m=\u001b[0m \u001b[0mneural_network\u001b[0m\u001b[0;34m.\u001b[0m\u001b[0mMLPClassifier\u001b[0m\u001b[0;34m(\u001b[0m\u001b[0;34m**\u001b[0m\u001b[0mgridsearch_MLP\u001b[0m\u001b[0;34m.\u001b[0m\u001b[0mbest_params_\u001b[0m\u001b[0;34m)\u001b[0m\u001b[0;34m\u001b[0m\u001b[0;34m\u001b[0m\u001b[0m\n\u001b[0m\u001b[1;32m      2\u001b[0m \u001b[0mMLP_classifier\u001b[0m\u001b[0;34m.\u001b[0m\u001b[0mfit\u001b[0m\u001b[0;34m(\u001b[0m\u001b[0mXtrain\u001b[0m\u001b[0;34m,\u001b[0m\u001b[0mytrain\u001b[0m\u001b[0;34m)\u001b[0m\u001b[0;34m\u001b[0m\u001b[0;34m\u001b[0m\u001b[0m\n\u001b[1;32m      3\u001b[0m \u001b[0mprint\u001b[0m\u001b[0;34m(\u001b[0m\u001b[0;34mf'The accuracy is {round(np.mean(MLP_classifier.predict(Xtest)==ytest)*100,2)}%'\u001b[0m\u001b[0;34m)\u001b[0m\u001b[0;34m\u001b[0m\u001b[0;34m\u001b[0m\u001b[0m\n",
      "\u001b[0;31mNameError\u001b[0m: name 'neural_network' is not defined"
     ]
    }
   ],
   "source": [
    "MLP_classifier = neural_network.MLPClassifier(**gridsearch_MLP.best_params_)\n",
    "MLP_classifier.fit(Xtrain,ytrain)\n",
    "print(f'The accuracy is {round(np.mean(MLP_classifier.predict(Xtest)==ytest)*100,2)}%')"
   ]
  },
  {
   "cell_type": "code",
   "execution_count": null,
   "id": "cea3b63f",
   "metadata": {},
   "outputs": [],
   "source": [
    "print(metrics.confusion_matrix(ytest,MLP_classifier.predict(Xtest)))\n",
    "print(metrics.classification_report(ytest, MLP_classifier.predict(Xtest)))"
   ]
  },
  {
   "cell_type": "markdown",
   "id": "77683b5b",
   "metadata": {},
   "source": [
    "This model provides the best results by all metrics, of particular interest id the false positive metric, as users would prefer to tradeoff more false negatives in return for false postives as the cost of a small amount spam entering your regular inbox is much less impactful than missing a potentiall important business email. "
   ]
  },
  {
   "cell_type": "markdown",
   "id": "9b00f393",
   "metadata": {},
   "source": [
    "### 2.5 Conclusion\n",
    "Comparing all the models fit, and considering that we would prefer models which have fewer false positives all else being equal, the logistic regression modeland neural network perform similarly. Depending on the circumstances I would consider them similarly equal, the neural network performs better, but is more computationally costly."
   ]
  },
  {
   "cell_type": "markdown",
   "id": "614ac22c",
   "metadata": {},
   "source": [
    "# 3. Unsupervised Topic Classification\n",
    "In this section I utilize the methods overviewed in class similar to section 2, this time for unsupervised learning."
   ]
  },
  {
   "cell_type": "markdown",
   "id": "1a296646",
   "metadata": {},
   "source": [
    "## 3.1 Latent Semantic Analysis\n",
    "Following the examples from class, I use latent semantic analysis to detect similarities among ham vs. spam. I will use the term frequency and inverse-document-frequency-representation.<br/><br/>\n",
    "This method does not contribute to the overall goal of detecting spam, but instead ranks topic similarity, which can improve understanding of the dataset."
   ]
  },
  {
   "cell_type": "code",
   "execution_count": null,
   "id": "fb82bde7",
   "metadata": {},
   "outputs": [],
   "source": [
    "from sklearn.feature_extraction.text import TfidfVectorizer\n",
    "from sklearn.decomposition import TruncatedSVD\n",
    "tfidf_vectorizer = TfidfVectorizer(use_idf=True, smooth_idf=True)\n",
    "X = tfidf_vectorizer.fit_transform([' '.join(doc) for doc in text_data])"
   ]
  },
  {
   "cell_type": "markdown",
   "id": "d1990ddf",
   "metadata": {},
   "source": [
    "Here use a principal component method to break down the variation of the dataset into the 10 multidimensional vectors which provide the most informative variation."
   ]
  },
  {
   "cell_type": "code",
   "execution_count": null,
   "id": "3764a5c9",
   "metadata": {},
   "outputs": [],
   "source": [
    "svd_model = TruncatedSVD(n_components=10, algorithm='randomized', n_iter=100, random_state=0)\n",
    "svd_model.fit(X)"
   ]
  },
  {
   "cell_type": "markdown",
   "id": "5cad2855",
   "metadata": {},
   "source": [
    "Here we can see the first 10 columns of the reduced principal component matrix in a form that shows the corresponding variable (in this case a word)."
   ]
  },
  {
   "cell_type": "code",
   "execution_count": null,
   "id": "5d2d9ef2",
   "metadata": {},
   "outputs": [],
   "source": [
    "print(svd_model.explained_variance_ratio_)\n",
    "print(svd_model.explained_variance_ratio_.cumsum())\n",
    "terms = tfidf_vectorizer.get_feature_names_out()\n",
    "comp_label=[]\n",
    "for i, comp in enumerate(svd_model.components_):\n",
    "    terms_comp = zip(terms, comp)\n",
    "    sorted_terms = sorted(terms_comp, key= lambda x:x[1], reverse=True)[:7]\n",
    "    print(\"Topic \"+str(i)+\": \")\n",
    "    message = \"\"\n",
    "    for t in sorted_terms:\n",
    "        message = message + \"{:.2f} * {} + \".format(t[1],t[0])\n",
    "    print(message)\n",
    "    comp_label.append(message)"
   ]
  },
  {
   "cell_type": "markdown",
   "id": "5ad654a0",
   "metadata": {},
   "source": [
    "Now, we can visualize the components. Since 10-dimensional space is difficult to visualize, I employ t-SNE to reduce dimensionality while making clear the original clusters using a nearest neighbours technique."
   ]
  },
  {
   "cell_type": "code",
   "execution_count": null,
   "id": "3502a69a",
   "metadata": {},
   "outputs": [],
   "source": [
    "lsa_topic_matrix = svd_model.transform(X)\n",
    "from sklearn.manifold import TSNE\n",
    "nplot = 2000 # reduce the size of the data to speed computation and make the plot less cluttered\n",
    "lsa_topic_sample = lsa_topic_matrix[np.random.choice(lsa_topic_matrix.shape[0], nplot, replace=False)]\n",
    "tsne_lsa_model = TSNE(n_components=2, perplexity=50, learning_rate=500,\n",
    "                      n_iter=1000, verbose=10, random_state=0, angle=0.75)\n",
    "tsne_lsa_vectors = tsne_lsa_model.fit_transform(lsa_topic_sample)"
   ]
  },
  {
   "cell_type": "code",
   "execution_count": null,
   "id": "56ba9581",
   "metadata": {},
   "outputs": [],
   "source": [
    "cmap = matplotlib.cm.get_cmap('Paired')\n",
    "fig, ax = plt.subplots(1,2,figsize=(16,6))\n",
    "n_topics=len(svd_model.components_)\n",
    "lsa_keys = np.argmax(lsa_topic_sample, axis=1)\n",
    "ax[0].scatter(x=tsne_lsa_vectors[:,0],y=tsne_lsa_vectors[:,1], color=[cmap(i) for i in lsa_keys], alpha=0.8)\n",
    "bbox_props = dict(boxstyle=\"round4,pad=0.1\", lw=0.2, fc=\"white\")\n",
    "for i in range(n_topics):\n",
    "    m = tsne_lsa_vectors[lsa_keys==i, :].mean(axis=0)\n",
    "    ax[0].text(m[0], m[1], str(i), ha=\"center\", va=\"center\",\n",
    "               size=15, color=cmap(i),\n",
    "               bbox=bbox_props)\n",
    "    ax[1].text(0,1-(i+1)*1/(n_topics+1),\"Topic \" + str(i) + \" : \"+ comp_label[i],ha=\"left\", va=\"center\", color=cmap(i))\n",
    "    ax[1].axis('off')\n",
    "fig.tight_layout()"
   ]
  },
  {
   "cell_type": "markdown",
   "id": "481ece4d",
   "metadata": {},
   "source": [
    "This shows us that most emails are related to topic 6 or topic 0, and that topic 0 encapsulates a large amount of space. Topics 1 and especially 3 appear very distinct."
   ]
  },
  {
   "cell_type": "markdown",
   "id": "12be6e51",
   "metadata": {},
   "source": [
    "## 3.2 Latent Dirichlet Analysis"
   ]
  },
  {
   "cell_type": "markdown",
   "id": "d1bbd136",
   "metadata": {},
   "source": [
    "LDA produces similar outputs to Latent Semantic analysis, but accounts for words being discrete."
   ]
  },
  {
   "cell_type": "code",
   "execution_count": null,
   "id": "671bfd07",
   "metadata": {},
   "outputs": [],
   "source": [
    "import gensim\n",
    "#convert text_data to a bag of words\n",
    "dictionary = gensim.corpora.Dictionary(text_data)\n",
    "bow_data = [dictionary.doc2bow(text) for text in text_data]"
   ]
  },
  {
   "cell_type": "code",
   "execution_count": null,
   "id": "1ff44740",
   "metadata": {},
   "outputs": [],
   "source": [
    "ldamodel = gensim.models.ldamodel.LdaModel(bow_data, num_topics = 5, id2word=dictionary, passes=15)\n",
    "topics = ldamodel.print_topics(num_words=10)"
   ]
  },
  {
   "cell_type": "markdown",
   "id": "415c9260",
   "metadata": {},
   "source": [
    "The code below currently does not display in the uploaded notebook, to view it run locally. I am currently working to fix this."
   ]
  },
  {
   "cell_type": "code",
   "execution_count": null,
   "id": "692ab9de",
   "metadata": {},
   "outputs": [
    {
     "name": "stdout",
     "output_type": "stream",
     "text": [
      "[CV 4/5] END activation=relu, hidden_layer_sizes=(100,), learning_rate=constant, solver=adam;, score=-0.092 total time=  17.1s\n",
      "[CV 2/5] END activation=tanh, hidden_layer_sizes=(50, 100), learning_rate=constant, solver=adam;, score=-0.083 total time=   7.1s\n",
      "[CV 4/5] END activation=tanh, hidden_layer_sizes=(50, 75, 100), learning_rate=constant, solver=adam;, score=-0.087 total time=   6.0s\n",
      "[CV 2/5] END activation=logistic, hidden_layer_sizes=(50, 100), learning_rate=constant, solver=adam;, score=-0.078 total time=  15.8s\n",
      "[CV 3/5] END activation=logistic, hidden_layer_sizes=(50, 75, 100), learning_rate=constant, solver=adam;, score=-0.064 total time=  10.9s\n",
      "[CV 1/5] END activation=identity, hidden_layer_sizes=(50, 100), learning_rate=constant, solver=adam;, score=-0.187 total time=   6.5s\n",
      "[CV 1/5] END activation=identity, hidden_layer_sizes=(50, 75, 100), learning_rate=constant, solver=adam;, score=-0.209 total time=   6.2s\n",
      "[CV 2/5] END activation=relu, hidden_layer_sizes=(100,), learning_rate=constant, solver=adam;, score=-0.119 total time=  17.7s\n",
      "[CV 5/5] END activation=tanh, hidden_layer_sizes=(50, 100), learning_rate=constant, solver=adam;, score=-0.133 total time=   7.0s\n",
      "[CV 5/5] END activation=tanh, hidden_layer_sizes=(50, 75, 100), learning_rate=constant, solver=adam;, score=-0.111 total time=   6.4s\n",
      "[CV 5/5] END activation=logistic, hidden_layer_sizes=(50, 100), learning_rate=constant, solver=adam;, score=-0.090 total time=  15.2s\n",
      "[CV 4/5] END activation=logistic, hidden_layer_sizes=(50, 75, 100), learning_rate=constant, solver=adam;, score=-0.068 total time=  10.6s\n",
      "[CV 2/5] END activation=identity, hidden_layer_sizes=(50, 100), learning_rate=constant, solver=adam;, score=-0.151 total time=   6.8s\n",
      "[CV 2/5] END activation=identity, hidden_layer_sizes=(50, 75, 100), learning_rate=constant, solver=adam;, score=-0.140 total time=   6.4s\n",
      "[CV 1/5] END activation=relu, hidden_layer_sizes=(100,), learning_rate=constant, solver=adam;, score=-0.180 total time=  17.1s\n",
      "[CV 3/5] END activation=tanh, hidden_layer_sizes=(50, 100), learning_rate=constant, solver=adam;, score=-0.081 total time=   6.7s\n",
      "[CV 1/5] END activation=tanh, hidden_layer_sizes=(50, 75, 100), learning_rate=constant, solver=adam;, score=-0.104 total time=   6.0s\n",
      "[CV 1/5] END activation=logistic, hidden_layer_sizes=(50, 100), learning_rate=constant, solver=adam;, score=-0.096 total time=  17.2s\n",
      "[CV 5/5] END activation=logistic, hidden_layer_sizes=(50, 75, 100), learning_rate=constant, solver=adam;, score=-0.083 total time=  10.1s\n",
      "[CV 4/5] END activation=identity, hidden_layer_sizes=(50, 100), learning_rate=constant, solver=adam;, score=-0.128 total time=   6.6s\n",
      "[CV 3/5] END activation=identity, hidden_layer_sizes=(50, 75, 100), learning_rate=constant, solver=adam;, score=-0.151 total time=   6.4s\n",
      "[CV 3/5] END activation=relu, hidden_layer_sizes=(50, 100), learning_rate=constant, solver=adam;, score=-0.124 total time=   6.3s\n",
      "[CV 1/5] END activation=relu, hidden_layer_sizes=(50, 75, 100), learning_rate=constant, solver=adam;, score=-0.187 total time=   5.5s\n",
      "[CV 2/5] END activation=tanh, hidden_layer_sizes=(100,), learning_rate=constant, solver=adam;, score=-0.098 total time=  17.4s\n",
      "[CV 2/5] END activation=logistic, hidden_layer_sizes=(100,), learning_rate=constant, solver=adam;, score=-0.086 total time=  28.0s\n",
      "[CV 3/5] END activation=identity, hidden_layer_sizes=(50, 100), learning_rate=constant, solver=adam;, score=-0.118 total time=   6.9s\n",
      "[CV 4/5] END activation=identity, hidden_layer_sizes=(50, 75, 100), learning_rate=constant, solver=adam;, score=-0.114 total time=   6.4s\n",
      "[CV 3/5] END activation=relu, hidden_layer_sizes=(100,), learning_rate=constant, solver=adam;, score=-0.108 total time=  17.0s\n",
      "[CV 1/5] END activation=tanh, hidden_layer_sizes=(50, 100), learning_rate=constant, solver=adam;, score=-0.114 total time=   7.0s\n",
      "[CV 2/5] END activation=tanh, hidden_layer_sizes=(50, 75, 100), learning_rate=constant, solver=adam;, score=-0.084 total time=   6.3s\n",
      "[CV 3/5] END activation=logistic, hidden_layer_sizes=(50, 100), learning_rate=constant, solver=adam;, score=-0.065 total time=  14.9s\n",
      "[CV 1/5] END activation=logistic, hidden_layer_sizes=(50, 75, 100), learning_rate=constant, solver=adam;, score=-0.085 total time=  12.8s\n",
      "[CV 5/5] END activation=identity, hidden_layer_sizes=(50, 100), learning_rate=constant, solver=adam;, score=-0.218 total time=   6.6s\n",
      "[CV 5/5] END activation=identity, hidden_layer_sizes=(50, 75, 100), learning_rate=constant, solver=adam;, score=-0.234 total time=   6.0s\n",
      "[CV 2/5] END activation=relu, hidden_layer_sizes=(50, 100), learning_rate=constant, solver=adam;, score=-0.129 total time=   6.7s\n",
      "[CV 5/5] END activation=relu, hidden_layer_sizes=(50, 75, 100), learning_rate=constant, solver=adam;, score=-0.190 total time=   5.0s\n",
      "[CV 1/5] END activation=tanh, hidden_layer_sizes=(100,), learning_rate=constant, solver=adam;, score=-0.128 total time=  17.0s\n",
      "[CV 1/5] END activation=logistic, hidden_layer_sizes=(100,), learning_rate=constant, solver=adam;, score=-0.112 total time=  26.6s\n",
      "[CV 1/5] END activation=identity, hidden_layer_sizes=(100,), learning_rate=constant, solver=adam;, score=-0.180 total time=  16.9s\n",
      "[CV 1/5] END activation=relu, hidden_layer_sizes=(50, 100), learning_rate=constant, solver=adam;, score=-0.192 total time=   6.7s\n",
      "[CV 4/5] END activation=relu, hidden_layer_sizes=(50, 75, 100), learning_rate=constant, solver=adam;, score=-0.097 total time=   6.0s\n",
      "[CV 5/5] END activation=tanh, hidden_layer_sizes=(100,), learning_rate=constant, solver=adam;, score=-0.153 total time=  16.9s\n",
      "[CV 4/5] END activation=logistic, hidden_layer_sizes=(100,), learning_rate=constant, solver=adam;, score=-0.070 total time=  26.6s\n",
      "[CV 4/5] END activation=identity, hidden_layer_sizes=(100,), learning_rate=constant, solver=adam;, score=-0.097 total time=  16.5s\n",
      "[CV 4/5] END activation=relu, hidden_layer_sizes=(50, 100), learning_rate=constant, solver=adam;, score=-0.119 total time=   6.6s\n",
      "[CV 2/5] END activation=relu, hidden_layer_sizes=(50, 75, 100), learning_rate=constant, solver=adam;, score=-0.139 total time=   5.5s\n",
      "[CV 3/5] END activation=tanh, hidden_layer_sizes=(100,), learning_rate=constant, solver=adam;, score=-0.091 total time=  17.3s\n",
      "[CV 3/5] END activation=logistic, hidden_layer_sizes=(100,), learning_rate=constant, solver=adam;, score=-0.073 total time=  26.7s\n",
      "[CV 2/5] END activation=identity, hidden_layer_sizes=(100,), learning_rate=constant, solver=adam;, score=-0.131 total time=  16.7s\n",
      "[CV 5/5] END activation=relu, hidden_layer_sizes=(100,), learning_rate=constant, solver=adam;, score=-0.183 total time=  17.2s\n",
      "[CV 4/5] END activation=tanh, hidden_layer_sizes=(50, 100), learning_rate=constant, solver=adam;, score=-0.098 total time=   6.9s\n",
      "[CV 3/5] END activation=tanh, hidden_layer_sizes=(50, 75, 100), learning_rate=constant, solver=adam;, score=-0.078 total time=   6.6s\n",
      "[CV 4/5] END activation=logistic, hidden_layer_sizes=(50, 100), learning_rate=constant, solver=adam;, score=-0.062 total time=  14.8s\n",
      "[CV 2/5] END activation=logistic, hidden_layer_sizes=(50, 75, 100), learning_rate=constant, solver=adam;, score=-0.071 total time=  11.1s\n",
      "[CV 5/5] END activation=identity, hidden_layer_sizes=(100,), learning_rate=constant, solver=adam;, score=-0.197 total time=  16.2s\n",
      "[CV 5/5] END activation=relu, hidden_layer_sizes=(50, 100), learning_rate=constant, solver=adam;, score=-0.228 total time=   6.6s\n",
      "[CV 3/5] END activation=relu, hidden_layer_sizes=(50, 75, 100), learning_rate=constant, solver=adam;, score=-0.149 total time=   5.7s\n",
      "[CV 4/5] END activation=tanh, hidden_layer_sizes=(100,), learning_rate=constant, solver=adam;, score=-0.083 total time=  17.6s\n",
      "[CV 5/5] END activation=logistic, hidden_layer_sizes=(100,), learning_rate=constant, solver=adam;, score=-0.108 total time=  26.2s\n",
      "[CV 3/5] END activation=identity, hidden_layer_sizes=(100,), learning_rate=constant, solver=adam;, score=-0.118 total time=  16.9s\n"
     ]
    }
   ],
   "source": [
    "import pyLDAvis\n",
    "import pyLDAvis.gensim_models\n",
    "import warnings\n",
    "#To ignore imp phase out depreciation warnings\n",
    "warnings.filterwarnings(\"ignore\") \n",
    "pyLDAvis.enable_notebook()\n",
    "lda_display = pyLDAvis.gensim_models.prepare(ldamodel, bow_data, dictionary)\n",
    "lda_display"
   ]
  }
 ],
 "metadata": {
  "kernelspec": {
   "display_name": "Python 3 (ipykernel)",
   "language": "python",
   "name": "python3"
  },
  "language_info": {
   "codemirror_mode": {
    "name": "ipython",
    "version": 3
   },
   "file_extension": ".py",
   "mimetype": "text/x-python",
   "name": "python",
   "nbconvert_exporter": "python",
   "pygments_lexer": "ipython3",
   "version": "3.10.1"
  }
 },
 "nbformat": 4,
 "nbformat_minor": 5
}
